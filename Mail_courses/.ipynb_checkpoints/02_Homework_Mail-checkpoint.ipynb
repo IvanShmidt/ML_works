{
 "cells": [
  {
   "cell_type": "code",
   "execution_count": 1,
   "metadata": {},
   "outputs": [],
   "source": [
    "import numpy as np\n",
    "import matplotlib.pyplot as plt\n",
    "from sklearn.model_selection import train_test_split\n",
    "import tqdm\n",
    "import pickle\n",
    "%matplotlib inline"
   ]
  },
  {
   "cell_type": "code",
   "execution_count": 2,
   "metadata": {},
   "outputs": [],
   "source": [
    "# one-hot encoder'а для MNIST\n",
    "class OneHotEncoder:\n",
    "    def __init__(self):\n",
    "        self.transform_mapping = np.zeros((10,10))\n",
    "        for i in range(self.transform_mapping.shape[0]):\n",
    "            self.transform_mapping[i][i] = 1.0\n",
    "    def transform(self, y):\n",
    "        return self.transform_mapping[int(y)]"
   ]
  },
  {
   "cell_type": "code",
   "execution_count": 3,
   "metadata": {},
   "outputs": [],
   "source": [
    "def make_submission(X_test, net, fname=\"my_submission.csv\"):\n",
    "    with open(fname,'w') as fout:\n",
    "        fout.write('Id,Category')\n",
    "        for i in range(X_test.shape[0]):\n",
    "            y_h = net.forward(X_test[i])\n",
    "            y = np.argmax(y_h)\n",
    "            fout.write(\"\\n{},{}\".format(i, int(y)))"
   ]
  },
  {
   "cell_type": "code",
   "execution_count": 4,
   "metadata": {},
   "outputs": [],
   "source": [
    "# Y_test в обычном формате(не onehot)\n",
    "def compute_acc(X_test, Y_test, net):\n",
    "    acc = 0.0\n",
    "    for i in range(X_test.shape[0]):\n",
    "        y_h = net.forward(X_test[i])\n",
    "        y = np.argmax(y_h)\n",
    "        if(y == np.argmax(Y_test[i])):\n",
    "            acc += 1.0\n",
    "    return acc / Y_test.shape[0]"
   ]
  },
  {
   "cell_type": "code",
   "execution_count": 5,
   "metadata": {},
   "outputs": [],
   "source": [
    "train_data = None\n",
    "test_data = None\n",
    "encoder = OneHotEncoder()\n",
    "with open('data_train.pickle','rb') as fin:\n",
    "    train_data = pickle.load(fin)\n",
    "with open('data_test_no_labels.pickle','rb') as fin:\n",
    "    test_data = pickle.load(fin)\n",
    "    \n",
    "X_train = train_data['data']\n",
    "Y_train = train_data['target']\n",
    "Y_train_oh = np.array(list(map(lambda x : encoder.transform(x), Y_train)))\n",
    "\n",
    "\n",
    "X_for_subm = test_data['data']"
   ]
  },
  {
   "cell_type": "code",
   "execution_count": 6,
   "metadata": {},
   "outputs": [
    {
     "data": {
      "image/png": "[encoded data removed]",
      "text/plain": [
       "<Figure size 432x288 with 16 Axes>"
      ]
     },
     "metadata": {
      "needs_background": "light"
     },
     "output_type": "display_data"
    }
   ],
   "source": [
    "n=4\n",
    "for i in range(n*n):\n",
    "    plt.subplot(n,n,i+1)\n",
    "    I = train_data['data'][np.random.randint(0, X_train.shape[0]),:]\n",
    "    I = I.reshape((28, 28))\n",
    "    plt.imshow(I, cmap='gray')"
   ]
  },
  {
   "cell_type": "code",
   "execution_count": 7,
   "metadata": {},
   "outputs": [],
   "source": [
    "X_train = X_train.astype('float')\n",
    "mean = np.mean(X_train, axis=0)\n",
    "std = np.std(X_train, axis=0)\n",
    "X_train=(X_train - mean) / (std + 0.0001)                    #(std + 0.01)\n",
    "\n",
    "X_train, X_test, Y_train, Y_test = train_test_split(X_train, Y_train_oh, test_size=0.3)"
   ]
  },
  {
   "cell_type": "code",
   "execution_count": 8,
   "metadata": {},
   "outputs": [],
   "source": [
    "X_for_subm_norm = (X_for_subm - mean) / (std + 0.0001)"
   ]
  },
  {
   "cell_type": "code",
   "execution_count": 9,
   "metadata": {},
   "outputs": [],
   "source": [
    "class Dense:\n",
    "    def __init__(self, in_size, out_size, rlambda = 0.0):\n",
    "        self.W = np.random.normal(scale=1, size=(out_size, in_size)) * np.sqrt(2/(out_size + in_size))\n",
    "        self.b = np.zeros(out_size)\n",
    "        self.rlambda = rlambda\n",
    "        \n",
    "    def forward(self, x):\n",
    "        self.x = x\n",
    "        return np.dot(self.W, x) + self.b\n",
    "    \n",
    "    def get_reg_loss(self):\n",
    "        return 0.5 * self.rlambda * (np.linalg.norm(self.W, ord='fro') ** 2)\n",
    "    \n",
    "    def backward(self, dz, lr=0.001):\n",
    "        self.dW = np.outer(dz, self.x)\n",
    "        self.db = dz\n",
    "        self.dx = np.matmul(dz, self.W) \n",
    "        if(self.rlambda != 0):\n",
    "            self.dW += self.rlambda * self.W\n",
    "        self.W = self.W - lr * self.dW\n",
    "        self.db = self.db - lr * self.db\n",
    "        return self.dx\n",
    "    \n",
    "    \n",
    "class Max:\n",
    "    def forward(self, x):\n",
    "        self.x = x\n",
    "        return np.maximum(0, x)\n",
    "    \n",
    "    def backward(self, dz, lr=0.1):\n",
    "        dz[self.x < 0] = 0\n",
    "        return dz\n",
    "    \n",
    "    \n",
    "class Softmax:\n",
    "    def forward(self, x):\n",
    "        self.x = x\n",
    "        exps = np.exp(x)\n",
    "        return exps / np.sum(exps)\n",
    "    \n",
    "    def backward(self, dz, lr=0.001):\n",
    "        sm = self.forward(self.x)\n",
    "        self.lp = (np.eye(sm.shape[0], sm.shape[0]) - sm).T\n",
    "        self.lp2 = sm * self.lp\n",
    "        return np.dot(dz, self.lp2)\n",
    "    \n",
    "    \n",
    "class CrossEntropy:\n",
    "    def forward(self, y_true, y_hat):\n",
    "        self.y_true = y_true\n",
    "        self.y_hat = y_hat\n",
    "        return -np.sum( y_true * np.log(y_hat) )\n",
    "    \n",
    "    def backward(self, dz, lr=0.001):\n",
    "        return dz * -1. * self.y_true / self.y_hat"
   ]
  },
  {
   "cell_type": "code",
   "execution_count": null,
   "metadata": {},
   "outputs": [],
   "source": [
    "# Должен работать только при обучении сети\n",
    "\n",
    "class Dropout:\n",
    "    def __init__(self, p = 0.5):\n",
    "        self.p = p\n",
    "        self.train = True\n",
    "    \n",
    "    def set_train(self, train = True):\n",
    "        self.train = train\n",
    "    \n",
    "    def forward(self, x):\n",
    "        if not self.train:\n",
    "            self.mask = np.ones(*x.shape)\n",
    "            return x\n",
    "        self.mask = ( np.random.rand(*x.shape) > self.p ) / (1.0 - self.p)\n",
    "        return x * self.mask\n",
    "        \n",
    "    def backward(self, dz, lr=0.001):\n",
    "        return dz * self.mask"
   ]
  },
  {
   "cell_type": "code",
   "execution_count": 11,
   "metadata": {},
   "outputs": [],
   "source": [
    "# Опеределение сети\n",
    "\n",
    "class MnistNet:\n",
    "    \n",
    "    def __init__(self, rlambda=0.0):\n",
    "        self.d1 = Dense(784, 196, rlambda)\n",
    "        self.m1 = Max()\n",
    "        self.d2 = Dense(196, 10, rlambda)\n",
    "        self.m2 = Max()\n",
    "        self.s = Softmax()\n",
    "    \n",
    "    def forward(self, x):\n",
    "        net = self.d1.forward(x)\n",
    "        net = self.m1.forward(net)\n",
    "        net = self.d2.forward(net)\n",
    "        net = self.m2.forward(net)\n",
    "        net = self.s.forward(net)\n",
    "        return net\n",
    "    \n",
    "    def backward(self, dz, lr):\n",
    "        dz = self.s.backward(dz, lr)\n",
    "        dz = self.m2.backward(dz, lr)\n",
    "        dz = self.d2.backward(dz, lr)\n",
    "        dz = self.m1.backward(dz, lr)\n",
    "        dz = self.d1.backward(dz, lr)\n",
    "        return dz\n",
    "    \n",
    "    def get_reg_loss(self):\n",
    "        return self.d.get_reg_loss()"
   ]
  },
  {
   "cell_type": "code",
   "execution_count": 13,
   "metadata": {},
   "outputs": [
    {
     "name": "stdout",
     "output_type": "stream",
     "text": [
      "0 iter loss. Train : 0.3572095209051179 . Test : 0.23757100130379705 . Accuracy : 0.9354285714285714\n",
      "1 iter loss. Train : 0.17358529691995783 . Test : 0.19865718464815804 . Accuracy : 0.9495873015873015\n",
      "2 iter loss. Train : 0.1240407759337237 . Test : 0.17611280786214298 . Accuracy : 0.9533968253968254\n",
      "3 iter loss. Train : 0.09972609172401493 . Test : 0.16436941495183352 . Accuracy : 0.9592380952380952\n",
      "4 iter loss. Train : 0.08286507689874904 . Test : 0.15311389537616227 . Accuracy : 0.9624126984126984\n",
      "5 iter loss. Train : 0.0705646567701236 . Test : 0.1484185978324794 . Accuracy : 0.9627301587301588\n",
      "6 iter loss. Train : 0.061336691661228106 . Test : 0.14294501436627663 . Accuracy : 0.9631111111111111\n",
      "7 iter loss. Train : 0.055506116851935246 . Test : 0.13970283184377438 . Accuracy : 0.965015873015873\n",
      "8 iter loss. Train : 0.04914225766986872 . Test : 0.13590040982684143 . Accuracy : 0.9646349206349206\n",
      "9 iter loss. Train : 0.04477549355738973 . Test : 0.13235595429343858 . Accuracy : 0.9652698412698413\n",
      "10 iter loss. Train : 0.04021894189328355 . Test : 0.1290977166712868 . Accuracy : 0.9671746031746031\n",
      "11 iter loss. Train : 0.03803347231247429 . Test : 0.12723105060290413 . Accuracy : 0.9666666666666667\n",
      "12 iter loss. Train : 0.034696296042059795 . Test : 0.1270401619103247 . Accuracy : 0.966984126984127\n",
      "13 iter loss. Train : 0.03319856548700617 . Test : 0.12495206892887473 . Accuracy : 0.9675555555555555\n",
      "14 iter loss. Train : 0.03149245966410765 . Test : 0.12106145992494406 . Accuracy : 0.9685079365079365\n",
      "15 iter loss. Train : 0.030096517251404515 . Test : 0.11971162681509762 . Accuracy : 0.9686984126984127\n",
      "16 iter loss. Train : 0.028788166229106946 . Test : 0.11851976592357902 . Accuracy : 0.9685079365079365\n",
      "17 iter loss. Train : 0.028003892165180705 . Test : 0.11595880863414247 . Accuracy : 0.9695238095238096\n",
      "18 iter loss. Train : 0.026853770026298643 . Test : 0.11609132488197983 . Accuracy : 0.9688888888888889\n",
      "19 iter loss. Train : 0.026305946138504274 . Test : 0.11386846160846792 . Accuracy : 0.9693333333333334\n",
      "20 iter loss. Train : 0.02591905531271764 . Test : 0.11474426034763138 . Accuracy : 0.968\n",
      "21 iter loss. Train : 0.024721510820569764 . Test : 0.11207223511891332 . Accuracy : 0.9695238095238096\n",
      "22 iter loss. Train : 0.024758827541645483 . Test : 0.11094254985175384 . Accuracy : 0.9705396825396826\n",
      "23 iter loss. Train : 0.024142701557955327 . Test : 0.11004274997158262 . Accuracy : 0.9697142857142858\n",
      "24 iter loss. Train : 0.023804824275963827 . Test : 0.11019037856177893 . Accuracy : 0.9695238095238096\n",
      "25 iter loss. Train : 0.02300604957443213 . Test : 0.10780502661112155 . Accuracy : 0.9713015873015873\n",
      "26 iter loss. Train : 0.023431225292994348 . Test : 0.10678714027340994 . Accuracy : 0.9707301587301588\n",
      "27 iter loss. Train : 0.022776830156912203 . Test : 0.10634456208859722 . Accuracy : 0.9711111111111111\n",
      "28 iter loss. Train : 0.02221096370463993 . Test : 0.1050129002871083 . Accuracy : 0.9711746031746031\n",
      "29 iter loss. Train : 0.02208598154949833 . Test : 0.10432711896664007 . Accuracy : 0.9706666666666667\n",
      "30 iter loss. Train : 0.021870907262804343 . Test : 0.10379902086211593 . Accuracy : 0.970984126984127\n",
      "31 iter loss. Train : 0.02199929092103192 . Test : 0.10264626361161913 . Accuracy : 0.9706666666666667\n",
      "32 iter loss. Train : 0.021459448562661878 . Test : 0.10209222290711821 . Accuracy : 0.9714285714285714\n",
      "33 iter loss. Train : 0.02138576068756587 . Test : 0.10093061775657443 . Accuracy : 0.9716190476190476\n",
      "34 iter loss. Train : 0.021144074949664287 . Test : 0.10119804938682739 . Accuracy : 0.9716825396825397\n",
      "35 iter loss. Train : 0.02113914273910213 . Test : 0.10013181117178854 . Accuracy : 0.9714285714285714\n",
      "36 iter loss. Train : 0.02101455027696606 . Test : 0.09995848364812225 . Accuracy : 0.9716190476190476\n",
      "37 iter loss. Train : 0.020793639048384376 . Test : 0.09937329788518019 . Accuracy : 0.9711746031746031\n",
      "38 iter loss. Train : 0.020827012081702137 . Test : 0.0987245974739137 . Accuracy : 0.972\n",
      "39 iter loss. Train : 0.020584458767029665 . Test : 0.09739637175690351 . Accuracy : 0.9720634920634921\n",
      "40 iter loss. Train : 0.02068454418502021 . Test : 0.09752499033999072 . Accuracy : 0.9716825396825397\n",
      "41 iter loss. Train : 0.02044219886166253 . Test : 0.09663580650772484 . Accuracy : 0.9721269841269842\n",
      "42 iter loss. Train : 0.020400250740289286 . Test : 0.09665848090666963 . Accuracy : 0.9721904761904762\n",
      "43 iter loss. Train : 0.02037287957191865 . Test : 0.09623865646986487 . Accuracy : 0.9720634920634921\n",
      "44 iter loss. Train : 0.020245610188234474 . Test : 0.09554250444002836 . Accuracy : 0.9726984126984127\n",
      "45 iter loss. Train : 0.02029856493235672 . Test : 0.09580470050630936 . Accuracy : 0.971936507936508\n",
      "46 iter loss. Train : 0.020126424742858886 . Test : 0.09431014557419778 . Accuracy : 0.9731428571428572\n",
      "47 iter loss. Train : 0.02008618197172291 . Test : 0.09449821402733735 . Accuracy : 0.9717460317460317\n",
      "48 iter loss. Train : 0.020139157803096216 . Test : 0.09440110993345872 . Accuracy : 0.9721269841269842\n",
      "49 iter loss. Train : 0.020005274448735556 . Test : 0.09495178674167133 . Accuracy : 0.9722539682539683\n",
      "CPU times: user 58min 22s, sys: 1h 3min 9s, total: 2h 1min 31s\n",
      "Wall time: 30min 34s\n"
     ]
    }
   ],
   "source": [
    "%%time\n",
    "# процедура обучения\n",
    "\n",
    "\n",
    "net = MnistNet(0.001)                    #0.01 - 0.93\n",
    "loss = CrossEntropy()\n",
    "lr = 0.001\n",
    "L_train = []\n",
    "L_test = []\n",
    "Acc_test = []\n",
    "for iter in range(50):\n",
    "    L_acc = 0.\n",
    "    sh = list(range(X_train.shape[0])) # больше рандома богу рандома\n",
    "    np.random.shuffle(sh)\n",
    "    for i in range(X_train.shape[0]):        \n",
    "        #x = X_train[sh[i]] - X_train[sh[i]].max()                                 # !!!!! вычитаем max\n",
    "        x = X_train[sh[i]]\n",
    "        y = Y_train[sh[i]]\n",
    "        y_h = net.forward(x)\n",
    "        L = loss.forward(y, y_h)\n",
    "        L_acc += L \n",
    "        dz = loss.backward(1, lr)\n",
    "        dz = net.backward(dz, lr)\n",
    "    L_acc /= Y_train.shape[0]\n",
    "    L_train.append(L_acc)\n",
    "    L_e_acc = 0.\n",
    "    for i in range(X_test.shape[0]):\n",
    "        x = X_test[i]\n",
    "        y = Y_test[i]\n",
    "        y_h = net.forward(x)\n",
    "        L = loss.forward(y, y_h)\n",
    "        L_e_acc += L\n",
    "    L_e_acc /= Y_test.shape[0]\n",
    "    L_test.append(L_e_acc)\n",
    "    acc = compute_acc(X_test, Y_test, net)\n",
    "    Acc_test.append(acc)\n",
    "    print(\"{} iter loss. Train : {} . Test : {} . Accuracy : {}\".format(iter, L_acc, L_e_acc, acc))"
   ]
  },
  {
   "cell_type": "code",
   "execution_count": 14,
   "metadata": {},
   "outputs": [
    {
     "data": {
      "text/plain": [
       "[<matplotlib.lines.Line2D at 0x7f68952b7cf8>]"
      ]
     },
     "execution_count": 14,
     "metadata": {},
     "output_type": "execute_result"
    },
    {
     "data": {
      "image/png": "[encoded data removed]",
      "text/plain": [
       "<Figure size 432x288 with 1 Axes>"
      ]
     },
     "metadata": {
      "needs_background": "light"
     },
     "output_type": "display_data"
    }
   ],
   "source": [
    "plt.plot(L_train, label='train')\n",
    "plt.plot(L_test, label='test')"
   ]
  },
  {
   "cell_type": "code",
   "execution_count": 18,
   "metadata": {},
   "outputs": [
    {
     "data": {
      "text/plain": [
       "Text(0.5,1,'Accuracy on test')"
      ]
     },
     "execution_count": 18,
     "metadata": {},
     "output_type": "execute_result"
    },
    {
     "data": {
      "image/png": "[encoded data removed]",
      "text/plain": [
       "<Figure size 432x288 with 1 Axes>"
      ]
     },
     "metadata": {
      "needs_background": "light"
     },
     "output_type": "display_data"
    }
   ],
   "source": [
    "plt.plot(Acc_test)\n",
    "plt.title('Accuracy on test')"
   ]
  },
  {
   "cell_type": "code",
   "execution_count": 20,
   "metadata": {},
   "outputs": [
    {
     "data": {
      "application/vnd.jupyter.widget-view+json": {
       "model_id": "be347b87fd124b01b8b6fd98e354f602",
       "version_major": 2,
       "version_minor": 0
      },
      "text/plain": [
       "HBox(children=(IntProgress(value=0, max=50), HTML(value='')))"
      ]
     },
     "metadata": {},
     "output_type": "display_data"
    },
    {
     "name": "stdout",
     "output_type": "stream",
     "text": [
      "\n"
     ]
    }
   ],
   "source": [
    "release_net = MnistNet(0.001)\n",
    "loss = CrossEntropy()\n",
    "lr = 0.001\n",
    "\n",
    "for iter in tqdm.tqdm_notebook(range(50)):\n",
    "    sh = list(range(X_train.shape[0])) \n",
    "    np.random.shuffle(sh)\n",
    "    for i in range(X_train.shape[0]):        \n",
    "        x = X_train[sh[i]]\n",
    "        y = Y_train_oh[sh[i]]\n",
    "        y_h = release_net.forward(x) \n",
    "        L = loss.forward(y, y_h)\n",
    "        dz = loss.backward(1, lr)\n",
    "        dz = release_net.backward(dz, lr)"
   ]
  },
  {
   "cell_type": "code",
   "execution_count": 20,
   "metadata": {},
   "outputs": [],
   "source": [
    "# формируем сабмишшен для на kaggle\n",
    "make_submission(X_for_subm_norm, release_net, fname=\"submission_D784_196В196_28MD28_10S_096ful.csv\")"
   ]
  }
 ],
 "metadata": {
  "kernelspec": {
   "display_name": "Python 3",
   "language": "python",
   "name": "python3"
  },
  "language_info": {
   "codemirror_mode": {
    "name": "ipython",
    "version": 3
   },
   "file_extension": ".py",
   "mimetype": "text/x-python",
   "name": "python",
   "nbconvert_exporter": "python",
   "pygments_lexer": "ipython3",
   "version": "3.6.5"
  },
  "widgets": {
   "application/vnd.jupyter.widget-state+json": {
    "state": {},
    "version_major": 2,
    "version_minor": 0
   }
  }
 },
 "nbformat": 4,
 "nbformat_minor": 2
}
