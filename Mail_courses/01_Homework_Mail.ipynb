{
 "cells": [
  {
   "cell_type": "code",
   "execution_count": 1,
   "metadata": {},
   "outputs": [],
   "source": [
    "import pickle\n",
    "import numpy as np\n",
    "import PIL.Image\n",
    "import itertools\n",
    "from IPython.core.display import Image, display\n",
    "from sklearn.metrics import log_loss, accuracy_score\n",
    "import scipy.ndimage\n",
    "import random\n",
    "import numpy as np\n",
    "import matplotlib.pylab as plt\n",
    "import tqdm\n",
    "import math\n",
    "%matplotlib inline"
   ]
  },
  {
   "cell_type": "markdown",
   "metadata": {
    "collapsed": true
   },
   "source": [
    "# Загружаем датасет"
   ]
  },
  {
   "cell_type": "code",
   "execution_count": 2,
   "metadata": {},
   "outputs": [],
   "source": [
    "with open('./hw_1_train.pickle', 'rb') as f:\n",
    "    train = pickle.load(f)\n",
    "\n",
    "with open('./hw_1_test_no_lables.pickle', 'rb') as f:\n",
    "    test_no_lables = pickle.load(f)"
   ]
  },
  {
   "cell_type": "code",
   "execution_count": 3,
   "metadata": {},
   "outputs": [
    {
     "data": {
      "text/plain": [
       "<matplotlib.image.AxesImage at 0x7f2d0ea8e908>"
      ]
     },
     "execution_count": 3,
     "metadata": {},
     "output_type": "execute_result"
    },
    {
     "data": {
      "image/png": "[encoded data removed]",
      "text/plain": [
       "<Figure size 432x288 with 1 Axes>"
      ]
     },
     "metadata": {
      "needs_background": "light"
     },
     "output_type": "display_data"
    }
   ],
   "source": [
    "# Пример, как можно визуализировать данные\n",
    "plt.imshow(train['data'][5].reshape(28,28))"
   ]
  },
  {
   "cell_type": "markdown",
   "metadata": {},
   "source": [
    "# Обучаем модель"
   ]
  },
  {
   "cell_type": "code",
   "execution_count": 4,
   "metadata": {},
   "outputs": [],
   "source": [
    "#кодируем 5 на -1 и 6 на 1\n",
    "y_train = np.array(list(map(lambda y: -1 if y == 5 else 1, train['labels'])))\n",
    "\n",
    "#прибваляем колонку единичек к признакам\n",
    "X_train = np.hstack([ np.ones((train['data'].shape[0], 1)), train['data']] )\n",
    "X_test = np.hstack([ np.ones((test_no_lables['data'].shape[0], 1)), test_no_lables['data']] )"
   ]
  },
  {
   "cell_type": "code",
   "execution_count": 5,
   "metadata": {},
   "outputs": [],
   "source": [
    "mean = np.mean(X_train, axis=0)\n",
    "std = np.std(X_train, axis=0) + 0.000001\n",
    "X_train_norm = (X_train - mean) / std\n",
    "X_test_norm = (X_test - mean) / std"
   ]
  },
  {
   "cell_type": "code",
   "execution_count": 6,
   "metadata": {},
   "outputs": [],
   "source": [
    "from sklearn.model_selection import train_test_split\n",
    "\n",
    "Xtrain, Xtest, ytrain, ytest = train_test_split(X_train_norm, y_train,\n",
    "                                                test_size=0.33, random_state=42)"
   ]
  },
  {
   "cell_type": "code",
   "execution_count": 10,
   "metadata": {},
   "outputs": [],
   "source": [
    "#объявляем вектор весов\n",
    "np.random.seed(11)\n",
    "weights = np.random.normal(scale=0.001, size = X_train.shape[1])"
   ]
  },
  {
   "cell_type": "code",
   "execution_count": 11,
   "metadata": {},
   "outputs": [],
   "source": [
    "#Gradient\n",
    "\n",
    "def SGD2(w, X, y, itr=100, c=0):\n",
    "    for iter in tqdm.tqdm_notebook(range(itr)):\n",
    "        for i in range(X.shape[0]):\n",
    "            j = np.random.randint(0, X.shape[0])\n",
    "            grad = - y[j] * X[j] / \\\n",
    "                ( 1 + np.exp( y[j] * np.dot(w.T, X[j]) ) ) + c * w\n",
    "            #w -= 0.001 * grad if iter < 0.95*itr else 0.0001 * grad\n",
    "            w -= 0.001 * grad\n",
    "    return w\n",
    "\n",
    "\n",
    "def sigma(w, x):\n",
    "    return 1 / ( 1 + np.exp(-1*np.dot(w.T, x)))\n",
    "\n",
    "#сигма для сабмита с весами www\n",
    "def sigma_pred(x):\n",
    "    return 1 / ( 1 + np.exp(-1*np.dot(www.T, x)))"
   ]
  },
  {
   "cell_type": "code",
   "execution_count": 15,
   "metadata": {},
   "outputs": [],
   "source": [
    "#%%time\n",
    "#w = SGD2(weights, Xtrain, ytrain)\n",
    "#print(log_loss(ytest, np.array(list(map(sigma, Xtest)))))"
   ]
  },
  {
   "cell_type": "code",
   "execution_count": 16,
   "metadata": {},
   "outputs": [
    {
     "data": {
      "application/vnd.jupyter.widget-view+json": {
       "model_id": "977a9d94817f425b87d015d9d6b4d1ab",
       "version_major": 2,
       "version_minor": 0
      },
      "text/plain": [
       "HBox(children=(IntProgress(value=0, max=8), HTML(value='')))"
      ]
     },
     "metadata": {},
     "output_type": "display_data"
    },
    {
     "data": {
      "application/vnd.jupyter.widget-view+json": {
       "model_id": "ed56d505dccd4e8db51920a86a511da1",
       "version_major": 2,
       "version_minor": 0
      },
      "text/plain": [
       "HBox(children=(IntProgress(value=0, max=6), HTML(value='')))"
      ]
     },
     "metadata": {},
     "output_type": "display_data"
    },
    {
     "name": "stdout",
     "output_type": "stream",
     "text": [
      "weight updated\n",
      "itr: 6, loss: 0.05009939065708086, acc: 0.983030303030303\n"
     ]
    },
    {
     "data": {
      "application/vnd.jupyter.widget-view+json": {
       "model_id": "380afdd96a3640679627ad04c8d7fe28",
       "version_major": 2,
       "version_minor": 0
      },
      "text/plain": [
       "HBox(children=(IntProgress(value=0, max=9), HTML(value='')))"
      ]
     },
     "metadata": {},
     "output_type": "display_data"
    },
    {
     "name": "stdout",
     "output_type": "stream",
     "text": [
      "weight updated\n",
      "itr: 9, loss: 0.04731308441280765, acc: 0.9842424242424243\n"
     ]
    },
    {
     "data": {
      "application/vnd.jupyter.widget-view+json": {
       "model_id": "782e3cbb3d7f4b22b89f0b18e0be7e6e",
       "version_major": 2,
       "version_minor": 0
      },
      "text/plain": [
       "HBox(children=(IntProgress(value=0, max=12), HTML(value='')))"
      ]
     },
     "metadata": {},
     "output_type": "display_data"
    },
    {
     "name": "stdout",
     "output_type": "stream",
     "text": [
      "weight updated\n",
      "itr: 12, loss: 0.04196235125527471, acc: 0.9866666666666667\n"
     ]
    },
    {
     "data": {
      "application/vnd.jupyter.widget-view+json": {
       "model_id": "b4cbe93bb57d423a99e0b953e130fcb2",
       "version_major": 2,
       "version_minor": 0
      },
      "text/plain": [
       "HBox(children=(IntProgress(value=0, max=15), HTML(value='')))"
      ]
     },
     "metadata": {},
     "output_type": "display_data"
    },
    {
     "name": "stdout",
     "output_type": "stream",
     "text": [
      "itr: 15, loss: 0.045240353751447596, acc: 0.9851515151515151\n"
     ]
    },
    {
     "data": {
      "application/vnd.jupyter.widget-view+json": {
       "model_id": "fa4160e49b854223ac653264cb1d5b4a",
       "version_major": 2,
       "version_minor": 0
      },
      "text/plain": [
       "HBox(children=(IntProgress(value=0, max=18), HTML(value='')))"
      ]
     },
     "metadata": {},
     "output_type": "display_data"
    },
    {
     "name": "stdout",
     "output_type": "stream",
     "text": [
      "itr: 18, loss: 0.04480166185980688, acc: 0.9848484848484849\n"
     ]
    },
    {
     "data": {
      "application/vnd.jupyter.widget-view+json": {
       "model_id": "4f3eb7db5d1642b59915c5f084997a9b",
       "version_major": 2,
       "version_minor": 0
      },
      "text/plain": [
       "HBox(children=(IntProgress(value=0, max=21), HTML(value='')))"
      ]
     },
     "metadata": {},
     "output_type": "display_data"
    },
    {
     "name": "stdout",
     "output_type": "stream",
     "text": [
      "itr: 21, loss: 0.045011128316299324, acc: 0.9833333333333333\n"
     ]
    },
    {
     "data": {
      "application/vnd.jupyter.widget-view+json": {
       "model_id": "1379f25915b04cc78860f417b67f330f",
       "version_major": 2,
       "version_minor": 0
      },
      "text/plain": [
       "HBox(children=(IntProgress(value=0, max=24), HTML(value='')))"
      ]
     },
     "metadata": {},
     "output_type": "display_data"
    },
    {
     "name": "stdout",
     "output_type": "stream",
     "text": [
      "itr: 24, loss: 0.04546275832282609, acc: 0.9833333333333333\n"
     ]
    },
    {
     "data": {
      "application/vnd.jupyter.widget-view+json": {
       "model_id": "85533058244d44bdb6477b53af71633b",
       "version_major": 2,
       "version_minor": 0
      },
      "text/plain": [
       "HBox(children=(IntProgress(value=0, max=27), HTML(value='')))"
      ]
     },
     "metadata": {},
     "output_type": "display_data"
    },
    {
     "name": "stdout",
     "output_type": "stream",
     "text": [
      "itr: 27, loss: 0.04325512287976987, acc: 0.9839393939393939\n",
      "\n"
     ]
    }
   ],
   "source": [
    "www = w     #лучший набор весов для submitа\n",
    "L = 10\n",
    "for i in tqdm.tqdm_notebook(range(6, 30, 3)):\n",
    "    weights = np.random.normal(scale=0.001, size = X_train.shape[1])\n",
    "    w = SGD2(weights, Xtrain, ytrain, i, 0)\n",
    "    loss = log_loss(ytest, np.array(list(sigma(w, elem)for elem in Xtest)))\n",
    "    if loss < L:\n",
    "        L = loss\n",
    "        www = w\n",
    "        print('weight updated')\n",
    "    acc = accuracy_score(ytest, np.array(list( map(lambda x: -1 if sigma(w, x) < 0.5 else 1, Xtest))))\n",
    "    print('itr: {}, loss: {}, acc: {}'.format(i, loss, acc))"
   ]
  },
  {
   "cell_type": "markdown",
   "metadata": {},
   "source": [
    "# Оцениваем результат"
   ]
  },
  {
   "cell_type": "markdown",
   "metadata": {},
   "source": [
    "Обязательно отрисуйте 2 графика:\n",
    "- loss на обучающем и тестовом множесте\n",
    "- % правильно классифицированных примеров на тестовом и обучающем множестве"
   ]
  },
  {
   "cell_type": "code",
   "execution_count": 125,
   "metadata": {},
   "outputs": [],
   "source": [
    "def SGD_plot_err(X, y, itr):\n",
    "    tr_eval = []\n",
    "    te_eval = []\n",
    "    w = np.random.normal(scale=0.001, size = X_train.shape[1])\n",
    "    for iter in tqdm.tqdm_notebook((range(itr))):\n",
    "        for i in range(X.shape[0]):\n",
    "            j = np.random.randint(0, X.shape[0])\n",
    "            grad = - y[j] * X[j] / \\\n",
    "                ( 1 + np.exp( y[j] * np.dot(w.T, X[j]) ) ) + 0 * w\n",
    "            w = w - 0.001 * grad                                              \n",
    "            \n",
    "        loss_tr = log_loss(ytrain, np.array(list(sigma(w, elem)for elem in Xtrain)))\n",
    "        loss_te = log_loss(ytest, np.array(list(sigma(w, elem)for elem in Xtest)))\n",
    "        \n",
    "        acc_tr = accuracy_score(ytrain, np.array(list( map(lambda x: -1 if sigma(w, x) < 0.5 else 1, Xtrain))))\n",
    "        acc_te = accuracy_score(ytest, np.array(list( map(lambda x: -1 if sigma(w, x) < 0.5 else 1, Xtest))))\n",
    "        \n",
    "        #print('loss_tr: {}, loss_te: {}'.format(loss_tr, loss_te))\n",
    "        #print('acc_tr: {}, acc_te: {}'.format(acc_tr, acc_te))\n",
    "        tr_eval.append([loss_tr, acc_tr])\n",
    "        te_eval.append([loss_te, acc_te])\n",
    "        \n",
    "    tr_eval = np.array(tr_eval)\n",
    "    te_eval = np.array(te_eval)\n",
    "    \n",
    "    return tr_eval, te_eval"
   ]
  },
  {
   "cell_type": "code",
   "execution_count": 126,
   "metadata": {},
   "outputs": [
    {
     "data": {
      "application/vnd.jupyter.widget-view+json": {
       "model_id": "fc53f48c738a475ab22d5ba9f17bd4e6",
       "version_major": 2,
       "version_minor": 0
      },
      "text/plain": [
       "HBox(children=(IntProgress(value=0, max=40), HTML(value='')))"
      ]
     },
     "metadata": {},
     "output_type": "display_data"
    },
    {
     "name": "stdout",
     "output_type": "stream",
     "text": [
      "CPU times: user 15.5 s, sys: 52.1 ms, total: 15.5 s\n",
      "Wall time: 15.5 s\n"
     ]
    }
   ],
   "source": [
    "%%time\n",
    "tr_eval, te_eval = SGD_plot_err(Xtrain, ytrain, 40)"
   ]
  },
  {
   "cell_type": "code",
   "execution_count": 127,
   "metadata": {},
   "outputs": [
    {
     "data": {
      "text/plain": [
       "<matplotlib.legend.Legend at 0x7fdbd466ab70>"
      ]
     },
     "execution_count": 127,
     "metadata": {},
     "output_type": "execute_result"
    },
    {
     "data": {
      "image/png": "[encoded data removed]",
      "text/plain": [
       "<Figure size 432x288 with 1 Axes>"
      ]
     },
     "metadata": {
      "needs_background": "light"
     },
     "output_type": "display_data"
    }
   ],
   "source": [
    "plt.title('Loss')\n",
    "plt.plot([e[0] for e in tr_eval], label='train')\n",
    "plt.plot([e[0] for e in te_eval], label='test')\n",
    "plt.legend()"
   ]
  },
  {
   "cell_type": "code",
   "execution_count": 128,
   "metadata": {},
   "outputs": [
    {
     "data": {
      "text/plain": [
       "<matplotlib.legend.Legend at 0x7fdbd45dbda0>"
      ]
     },
     "execution_count": 128,
     "metadata": {},
     "output_type": "execute_result"
    },
    {
     "data": {
      "image/png": "[encoded data removed]",
      "text/plain": [
       "<Figure size 432x288 with 1 Axes>"
      ]
     },
     "metadata": {
      "needs_background": "light"
     },
     "output_type": "display_data"
    }
   ],
   "source": [
    "plt.title('Acc')\n",
    "plt.plot([e[1] for e in tr_eval], label='train')\n",
    "plt.plot([e[1] for e in te_eval], label='test')\n",
    "plt.legend()"
   ]
  },
  {
   "cell_type": "markdown",
   "metadata": {},
   "source": [
    "# Сохраняем данные для кагла"
   ]
  },
  {
   "cell_type": "markdown",
   "metadata": {},
   "source": [
    "https://www.kaggle.com/t/513ea517806348848dc78c4f41d44528"
   ]
  },
  {
   "cell_type": "markdown",
   "metadata": {},
   "source": [
    "Результат записывается в простой текстовый файл. Первая строчка \"Id,Prediction\", далее для каждого примера из валидационного множества записывается его Id (порядковый номер, с нуля) и вероятность принадлежности к классу '6', например '123,0.12'.\n",
    "\n",
    "Важно соблюдать тот же порядок следования элементов, что и в наборе данных. Нумерация id с 0"
   ]
  },
  {
   "cell_type": "code",
   "execution_count": 103,
   "metadata": {},
   "outputs": [
    {
     "name": "stderr",
     "output_type": "stream",
     "text": [
      "/home/amigo/PyProj_2/env/lib/python3.6/site-packages/ipykernel_launcher.py:25: RuntimeWarning: overflow encountered in exp\n"
     ]
    }
   ],
   "source": [
    "#w = SGD(weights, X_train_norm, y_train, 100)\n",
    "\n",
    "pred_prob = np.array(list(map(sigma_pred, X_test_norm)))"
   ]
  },
  {
   "cell_type": "code",
   "execution_count": 104,
   "metadata": {},
   "outputs": [],
   "source": [
    "X = test_no_lables['data']\n",
    "\n",
    "with open('solution_prob_norm_plus_0417err.csv', 'w') as fout:\n",
    "    print(\"Id,Prediction\", file=fout)\n",
    "    for i in range(len(X_test)):\n",
    "        print(i, pred_prob[i], sep=',', file=fout)"
   ]
  },
  {
   "cell_type": "markdown",
   "metadata": {},
   "source": [
    "# Сдача"
   ]
  },
  {
   "cell_type": "markdown",
   "metadata": {},
   "source": [
    "1. Регистрируетесь на конкурс https://www.kaggle.com/t/513ea517806348848dc78c4f41d44528 \n",
    "1. Преодолеваете \"Pass level\" baseline\n",
    "1. После того, как вы преодолеете baseline, присылайте ноутбук с решение по адресу **voropaev@corp.mail.ru**\n",
    "\n",
    "# Внимание\n",
    "- Тему письма писать в формате \"[МИФИ][1] Фамилия\"\n",
    "- Внутри писма прикрепляете файл ноутбука с именем family.ipynb"
   ]
  }
 ],
 "metadata": {
  "kernelspec": {
   "display_name": "Python 3",
   "language": "python",
   "name": "python3"
  },
  "language_info": {
   "codemirror_mode": {
    "name": "ipython",
    "version": 3
   },
   "file_extension": ".py",
   "mimetype": "text/x-python",
   "name": "python",
   "nbconvert_exporter": "python",
   "pygments_lexer": "ipython3",
   "version": "3.6.5"
  }
 },
 "nbformat": 4,
 "nbformat_minor": 2
}
